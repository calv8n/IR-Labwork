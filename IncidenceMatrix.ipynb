{
 "cells": [
  {
   "cell_type": "code",
   "execution_count": 1,
   "id": "475f174a-735c-4bba-8346-8bfc00402fc9",
   "metadata": {},
   "outputs": [],
   "source": [
    "import os\n",
    "from nltk.tokenize import WordPunctTokenizer"
   ]
  },
  {
   "cell_type": "code",
   "execution_count": 2,
   "id": "68a82f49-8e82-49be-8672-e478716d9cbd",
   "metadata": {},
   "outputs": [
    {
     "name": "stdout",
     "output_type": "stream",
     "text": [
      "Collecting nltk\n",
      "  Downloading nltk-3.8.1-py3-none-any.whl (1.5 MB)\n",
      "\u001b[2K     \u001b[90m━━━━━━━━━━━━━━━━━━━━━━━━━━━━━━━━━━━━━━━━\u001b[0m \u001b[32m1.5/1.5 MB\u001b[0m \u001b[31m2.7 MB/s\u001b[0m eta \u001b[36m0:00:00\u001b[0ma \u001b[36m0:00:01\u001b[0m0m\n",
      "\u001b[?25hCollecting click (from nltk)\n",
      "  Obtaining dependency information for click from https://files.pythonhosted.org/packages/1a/70/e63223f8116931d365993d4a6b7ef653a4d920b41d03de7c59499962821f/click-8.1.6-py3-none-any.whl.metadata\n",
      "  Downloading click-8.1.6-py3-none-any.whl.metadata (3.0 kB)\n",
      "Requirement already satisfied: joblib in /Library/Frameworks/Python.framework/Versions/3.11/lib/python3.11/site-packages (from nltk) (1.3.1)\n",
      "Collecting regex>=2021.8.3 (from nltk)\n",
      "  Obtaining dependency information for regex>=2021.8.3 from https://files.pythonhosted.org/packages/03/5e/9a4cabe86a3b4e67bd2cf795a2e84de01c735c8c1c1d88795425847ccbbe/regex-2023.8.8-cp311-cp311-macosx_11_0_arm64.whl.metadata\n",
      "  Downloading regex-2023.8.8-cp311-cp311-macosx_11_0_arm64.whl.metadata (40 kB)\n",
      "\u001b[2K     \u001b[90m━━━━━━━━━━━━━━━━━━━━━━━━━━━━━━━━━━━━━━━━\u001b[0m \u001b[32m40.9/40.9 kB\u001b[0m \u001b[31m2.5 MB/s\u001b[0m eta \u001b[36m0:00:00\u001b[0m\n",
      "\u001b[?25hCollecting tqdm (from nltk)\n",
      "  Obtaining dependency information for tqdm from https://files.pythonhosted.org/packages/00/e5/f12a80907d0884e6dff9c16d0c0114d81b8cd07dc3ae54c5e962cc83037e/tqdm-4.66.1-py3-none-any.whl.metadata\n",
      "  Downloading tqdm-4.66.1-py3-none-any.whl.metadata (57 kB)\n",
      "\u001b[2K     \u001b[90m━━━━━━━━━━━━━━━━━━━━━━━━━━━━━━━━━━━━━━━━\u001b[0m \u001b[32m57.6/57.6 kB\u001b[0m \u001b[31m5.4 MB/s\u001b[0m eta \u001b[36m0:00:00\u001b[0m\n",
      "\u001b[?25hDownloading regex-2023.8.8-cp311-cp311-macosx_11_0_arm64.whl (289 kB)\n",
      "\u001b[2K   \u001b[90m━━━━━━━━━━━━━━━━━━━━━━━━━━━━━━━━━━━━━━━━\u001b[0m \u001b[32m289.3/289.3 kB\u001b[0m \u001b[31m5.5 MB/s\u001b[0m eta \u001b[36m0:00:00\u001b[0ma \u001b[36m0:00:01\u001b[0m\n",
      "\u001b[?25hDownloading click-8.1.6-py3-none-any.whl (97 kB)\n",
      "\u001b[2K   \u001b[90m━━━━━━━━━━━━━━━━━━━━━━━━━━━━━━━━━━━━━━━━\u001b[0m \u001b[32m97.9/97.9 kB\u001b[0m \u001b[31m2.4 MB/s\u001b[0m eta \u001b[36m0:00:00\u001b[0ma \u001b[36m0:00:01\u001b[0m\n",
      "\u001b[?25hDownloading tqdm-4.66.1-py3-none-any.whl (78 kB)\n",
      "\u001b[2K   \u001b[90m━━━━━━━━━━━━━━━━━━━━━━━━━━━━━━━━━━━━━━━━\u001b[0m \u001b[32m78.3/78.3 kB\u001b[0m \u001b[31m2.7 MB/s\u001b[0m eta \u001b[36m0:00:00\u001b[0m\n",
      "\u001b[?25hInstalling collected packages: tqdm, regex, click, nltk\n",
      "Successfully installed click-8.1.6 nltk-3.8.1 regex-2023.8.8 tqdm-4.66.1\n"
     ]
    }
   ],
   "source": [
    "! pip install nltk"
   ]
  },
  {
   "cell_type": "code",
   "execution_count": 2,
   "id": "56e33f7a-f8cd-4c12-968d-c5d6b1987639",
   "metadata": {},
   "outputs": [],
   "source": [
    "CORPUS_PATH = \"classics/\""
   ]
  },
  {
   "cell_type": "code",
   "execution_count": 3,
   "id": "b15e437d-48dc-479b-ace0-8fa11dc0b394",
   "metadata": {},
   "outputs": [],
   "source": [
    "l = os.listdir(CORPUS_PATH)"
   ]
  },
  {
   "cell_type": "code",
   "execution_count": 4,
   "id": "79eada71-6c42-4e50-ba0d-9021f1b40e77",
   "metadata": {},
   "outputs": [],
   "source": [
    "fp = open(os.path.join(CORPUS_PATH,l[0]), 'r', encoding=\"utf-8\")\n",
    "x = []\n",
    "data = fp.readlines()"
   ]
  },
  {
   "cell_type": "code",
   "execution_count": 5,
   "id": "4442186c-fad2-4d62-93dc-831ee9fb11d0",
   "metadata": {},
   "outputs": [],
   "source": [
    "for lines in data:\n",
    "    x.append(lines)"
   ]
  },
  {
   "cell_type": "code",
   "execution_count": 6,
   "id": "d1762a15-5bd5-4f8e-90ab-687faf8ccaaa",
   "metadata": {},
   "outputs": [
    {
     "data": {
      "text/plain": [
       "['\\ufeffProject Gutenberg’s Alice’s Adventures in Wonderland, by Lewis Carroll\\n',\n",
       " '\\n',\n",
       " 'This eBook is for the use of anyone anywhere at no cost and with\\n',\n",
       " 'almost no restrictions whatsoever.  You may copy it, give it away or\\n',\n",
       " 're-use it under the terms of the Project Gutenberg License included\\n',\n",
       " 'with this eBook or online at www.gutenberg.org\\n',\n",
       " '\\n',\n",
       " '\\n',\n",
       " 'Title: Alice’s Adventures in Wonderland\\n',\n",
       " '\\n',\n",
       " 'Author: Lewis Carroll\\n',\n",
       " '\\n',\n",
       " 'Posting Date: June 25, 2008 [EBook #11]\\n',\n",
       " 'Release Date: March, 1994\\n',\n",
       " 'Last Updated: October 6, 2016\\n',\n",
       " '\\n',\n",
       " 'Language: English\\n',\n",
       " '\\n',\n",
       " 'Character set encoding: UTF-8\\n',\n",
       " '\\n']"
      ]
     },
     "execution_count": 6,
     "metadata": {},
     "output_type": "execute_result"
    }
   ],
   "source": [
    "x[:20]"
   ]
  },
  {
   "cell_type": "code",
   "execution_count": 7,
   "id": "bb2cd4ab-d60b-4594-ab4e-0eb1d270e4ad",
   "metadata": {},
   "outputs": [],
   "source": [
    "y = x[0].split()"
   ]
  },
  {
   "cell_type": "code",
   "execution_count": 8,
   "id": "15952301-df58-410c-8ae0-83668dcdaf5f",
   "metadata": {},
   "outputs": [],
   "source": [
    "y = []"
   ]
  },
  {
   "cell_type": "code",
   "execution_count": 9,
   "id": "fa5bf1f6-99cb-4f19-b289-3c61b303a873",
   "metadata": {},
   "outputs": [],
   "source": [
    "for i in x:\n",
    "    for j in i.split():\n",
    "        y.append(j)"
   ]
  },
  {
   "cell_type": "code",
   "execution_count": 10,
   "id": "f00828ec-0b1c-4df7-9b94-3d21eb15de62",
   "metadata": {},
   "outputs": [
    {
     "data": {
      "text/plain": [
       "['\\ufeffProject',\n",
       " 'Gutenberg’s',\n",
       " 'Alice’s',\n",
       " 'Adventures',\n",
       " 'in',\n",
       " 'Wonderland,',\n",
       " 'by',\n",
       " 'Lewis',\n",
       " 'Carroll',\n",
       " 'This']"
      ]
     },
     "execution_count": 10,
     "metadata": {},
     "output_type": "execute_result"
    }
   ],
   "source": [
    "y[:10]"
   ]
  },
  {
   "cell_type": "code",
   "execution_count": 11,
   "id": "1220a1b8-f512-4023-b09b-ed85e1bc6c59",
   "metadata": {},
   "outputs": [],
   "source": [
    "def tokenize(data):\n",
    "    tokens = []\n",
    "    for lines in data:\n",
    "        for token in lines.split():\n",
    "            tokens.append(token.lower())\n",
    "    return tokens            "
   ]
  },
  {
   "cell_type": "code",
   "execution_count": 12,
   "id": "489f4aae-1b81-4b7d-aa21-f6749b82620c",
   "metadata": {},
   "outputs": [
    {
     "data": {
      "text/plain": [
       "29465"
      ]
     },
     "execution_count": 12,
     "metadata": {},
     "output_type": "execute_result"
    }
   ],
   "source": [
    "l = tokenize(data)\n",
    "len(l)"
   ]
  },
  {
   "cell_type": "code",
   "execution_count": 13,
   "id": "effb7994-45ec-4326-ad5e-44a2b5ea9966",
   "metadata": {},
   "outputs": [],
   "source": [
    "vocab = []    "
   ]
  },
  {
   "cell_type": "code",
   "execution_count": 14,
   "id": "897f61a0-c099-4ea0-9ad9-0d9dfe8111d3",
   "metadata": {},
   "outputs": [],
   "source": [
    "def vocabulary(tokens):\n",
    "    for token in tokens:\n",
    "        if token in vocab:\n",
    "            continue\n",
    "        else:\n",
    "            vocab.append(token)"
   ]
  },
  {
   "cell_type": "code",
   "execution_count": 15,
   "id": "8b176fab-7319-44ea-96f9-541c2cb1b659",
   "metadata": {},
   "outputs": [],
   "source": [
    "#vocabulary(l)"
   ]
  },
  {
   "cell_type": "code",
   "execution_count": 16,
   "id": "289570ad-0423-4bc5-b05d-3c14437d90bd",
   "metadata": {},
   "outputs": [],
   "source": [
    "vocab = sorted(vocab)"
   ]
  },
  {
   "cell_type": "code",
   "execution_count": 17,
   "id": "e8de0e09-9d7c-4413-8dd9-2c77f5becc65",
   "metadata": {},
   "outputs": [
    {
     "data": {
      "text/plain": [
       "[]"
      ]
     },
     "execution_count": 17,
     "metadata": {},
     "output_type": "execute_result"
    }
   ],
   "source": [
    "vocab[:10]"
   ]
  },
  {
   "cell_type": "code",
   "execution_count": 18,
   "id": "2520abbe-f62b-4d51-8478-aa229df2ca37",
   "metadata": {},
   "outputs": [],
   "source": [
    "incidence_matrix = []"
   ]
  },
  {
   "cell_type": "code",
   "execution_count": 19,
   "id": "30750482-a446-4955-a939-8859c91434a5",
   "metadata": {},
   "outputs": [],
   "source": [
    "def incidenceMatrix(tokens, vocab):\n",
    "    temp_matrix = []\n",
    "    for v in vocab:\n",
    "        if v in tokens:\n",
    "            temp_matrix.append(1)\n",
    "        else:\n",
    "            temp_matrix.append(0)\n",
    "    incidence_matrix.append(temp_matrix)"
   ]
  },
  {
   "cell_type": "code",
   "execution_count": 20,
   "id": "4c1255ed-cca0-419b-a1c7-164514462fd9",
   "metadata": {},
   "outputs": [],
   "source": [
    "#incidenceMatrix(l, vocab)"
   ]
  },
  {
   "cell_type": "code",
   "execution_count": 21,
   "id": "6f860749-1e72-4916-8484-4b0432f0f65e",
   "metadata": {},
   "outputs": [],
   "source": [
    "#incidence_matrix"
   ]
  },
  {
   "cell_type": "code",
   "execution_count": 65,
   "id": "e0ee4af2-a505-4db3-8184-5aecf7ed9d4e",
   "metadata": {},
   "outputs": [],
   "source": [
    "for filename in os.listdir(CORPUS_PATH):\n",
    "    fp = open(os.path.join(CORPUS_PATH,filename), 'r', encoding=\"utf-8\")\n",
    "    data = fp.readlines()\n",
    "    tokens = tokenize(data)\n",
    "    vocabulary(tokens)\n",
    "    ngram_vocab(tokens)\n",
    "    "
   ]
  },
  {
   "cell_type": "code",
   "execution_count": 23,
   "id": "88371520-d77e-4294-9469-d207876fa0af",
   "metadata": {},
   "outputs": [],
   "source": [
    "vocab = sorted(vocab)"
   ]
  },
  {
   "cell_type": "code",
   "execution_count": 24,
   "id": "5857a09e-213d-42a2-836c-e96d489b06e3",
   "metadata": {},
   "outputs": [],
   "source": [
    "for v in vocab:\n",
    "    if v.isalpha() == True:\n",
    "        continue\n",
    "    else:\n",
    "        vocab.pop(vocab.index(v))"
   ]
  },
  {
   "cell_type": "code",
   "execution_count": 26,
   "id": "fd268532-3241-4906-bd9e-227a870d4dc9",
   "metadata": {},
   "outputs": [
    {
     "data": {
      "text/plain": [
       "58687"
      ]
     },
     "execution_count": 26,
     "metadata": {},
     "output_type": "execute_result"
    }
   ],
   "source": [
    "len(vocab)"
   ]
  },
  {
   "cell_type": "code",
   "execution_count": 27,
   "id": "8e230fb3-4e06-425b-93a4-2480048f85c7",
   "metadata": {},
   "outputs": [],
   "source": [
    "for filename in os.listdir(CORPUS_PATH):\n",
    "    fp = open(os.path.join(CORPUS_PATH, filename), 'r', encoding='utf-8')\n",
    "    data = fp.readlines()\n",
    "    tokens = tokenize(data)\n",
    "    incidenceMatrix(tokens, vocab)"
   ]
  },
  {
   "cell_type": "code",
   "execution_count": 28,
   "id": "f7f58f69-339c-42a2-9b9b-73c1cd997ba0",
   "metadata": {},
   "outputs": [
    {
     "data": {
      "text/plain": [
       "5"
      ]
     },
     "execution_count": 28,
     "metadata": {},
     "output_type": "execute_result"
    }
   ],
   "source": [
    "incidence_matrix[2].index(1)"
   ]
  },
  {
   "cell_type": "code",
   "execution_count": 29,
   "id": "676512f2-a8bd-47cf-8f0e-72043c6916a8",
   "metadata": {},
   "outputs": [
    {
     "data": {
      "text/plain": [
       "14"
      ]
     },
     "execution_count": 29,
     "metadata": {},
     "output_type": "execute_result"
    }
   ],
   "source": [
    "len(incidence_matrix)"
   ]
  },
  {
   "cell_type": "code",
   "execution_count": 31,
   "id": "77ccf679-367b-49a1-a5c8-87086ffb8883",
   "metadata": {},
   "outputs": [],
   "source": [
    "#print(incidence_matrix[1])"
   ]
  },
  {
   "cell_type": "code",
   "execution_count": 32,
   "id": "34db91fe-8a2b-43a7-b2c7-3d051f715634",
   "metadata": {},
   "outputs": [],
   "source": [
    "vocab = sorted(vocab)"
   ]
  },
  {
   "cell_type": "code",
   "execution_count": 54,
   "id": "3414f94b-5ef7-4a3f-b436-287025efed96",
   "metadata": {},
   "outputs": [],
   "source": [
    "def intersect(matrix1, matrix2):\n",
    "    l = []\n",
    "    for i in range(len(matrix1)):\n",
    "        if (matrix1[i] == matrix2[i]) and (matrix1[i] == 1 and matrix2[i] == 1):\n",
    "            l.append(1)\n",
    "        else:\n",
    "            l.append(0)\n",
    "    return l"
   ]
  },
  {
   "cell_type": "code",
   "execution_count": 55,
   "id": "e35be71e-8f3c-4c98-b64f-8f4368ec4af9",
   "metadata": {},
   "outputs": [],
   "source": [
    "def get_boolean_matrix(word, vocab=vocab):\n",
    "    x = []\n",
    "    for i in incidence_matrix:\n",
    "        if word in vocab:\n",
    "            x.append(i[vocab.index(word)])\n",
    "        else:\n",
    "            x.append(0)\n",
    "    return x\n",
    "            "
   ]
  },
  {
   "cell_type": "code",
   "execution_count": 56,
   "id": "a0e9f8cb-1dfd-4e67-9da9-339a3f81cf72",
   "metadata": {},
   "outputs": [],
   "source": [
    "a = get_boolean_matrix('alice', vocab)"
   ]
  },
  {
   "cell_type": "code",
   "execution_count": 57,
   "id": "9f79944c-3233-4c45-a190-669e1ae5b32e",
   "metadata": {},
   "outputs": [],
   "source": [
    "b = get_boolean_matrix('in', vocab)"
   ]
  },
  {
   "cell_type": "code",
   "execution_count": 58,
   "id": "de94bdcd-ac92-470e-b4c5-12a6a4310fd7",
   "metadata": {},
   "outputs": [
    {
     "data": {
      "text/plain": [
       "[1, 0, 0, 0, 1, 0, 0, 0, 0, 0, 0, 0, 0, 0]"
      ]
     },
     "execution_count": 58,
     "metadata": {},
     "output_type": "execute_result"
    }
   ],
   "source": [
    "intersect(a, b)"
   ]
  },
  {
   "cell_type": "code",
   "execution_count": 59,
   "id": "8dbd48e7-16b3-4ee6-9c19-83ee94231bf3",
   "metadata": {},
   "outputs": [
    {
     "data": {
      "text/plain": [
       "([1, 0, 0, 0, 1, 0, 0, 0, 0, 0, 0, 0, 0, 0],\n",
       " [1, 1, 1, 1, 1, 1, 1, 1, 1, 1, 1, 1, 1, 1])"
      ]
     },
     "execution_count": 59,
     "metadata": {},
     "output_type": "execute_result"
    }
   ],
   "source": [
    "a, b"
   ]
  },
  {
   "cell_type": "code",
   "execution_count": 169,
   "id": "6b0eae54-7be8-4906-a076-f31a9e310c1c",
   "metadata": {},
   "outputs": [
    {
     "data": {
      "text/plain": [
       "[0, 1, 1, 1, 1, 1, 1, 1, 1, 1, 1, 1, 0, 1]"
      ]
     },
     "execution_count": 169,
     "metadata": {},
     "output_type": "execute_result"
    }
   ],
   "source": [
    "get_boolean_matrix('yellow', vocab)"
   ]
  },
  {
   "cell_type": "code",
   "execution_count": 61,
   "id": "61262fbc-90f4-4ae1-8ea3-22b004a2a2e3",
   "metadata": {},
   "outputs": [
    {
     "name": "stdout",
     "output_type": "stream",
     "text": [
      "('I', 'reside')\n",
      "('reside', 'in')\n",
      "('in', 'Bengaluru.')\n"
     ]
    }
   ],
   "source": [
    "from nltk import ngrams\n",
    "sentence = 'I reside in Bengaluru.'\n",
    "n = 2\n",
    "bigrams = ngrams(sentence.split(), n)\n",
    "for grams in bigrams:\n",
    "    print(grams)"
   ]
  },
  {
   "cell_type": "code",
   "execution_count": 73,
   "id": "97175d55-ddc2-45c2-a1c0-df02ad6712f8",
   "metadata": {},
   "outputs": [],
   "source": [
    "bigram_vocab = []\n",
    "def ngram_vocab(tokens, n = 2):\n",
    "    #ngram = ngrams(tokens.split(), n)\n",
    "    for token in tokens:\n",
    "        ngram = ngrams(token.split(), n)\n",
    "        for grams in ngram:\n",
    "            bigram_vocab.append(list(grams))"
   ]
  },
  {
   "cell_type": "code",
   "execution_count": 77,
   "id": "bfb46211-e8b2-4290-a29a-125f8149edf1",
   "metadata": {},
   "outputs": [
    {
     "data": {
      "text/plain": [
       "1613309"
      ]
     },
     "execution_count": 77,
     "metadata": {},
     "output_type": "execute_result"
    }
   ],
   "source": [
    "len(bigram_vocab)"
   ]
  },
  {
   "cell_type": "code",
   "execution_count": 78,
   "id": "0a94547e-fdfc-47c5-866a-24e6e521cf0c",
   "metadata": {},
   "outputs": [
    {
     "data": {
      "text/plain": [
       "[['\\ufeffProject', 'Gutenberg’s'],\n",
       " ['Gutenberg’s', 'Alice’s'],\n",
       " ['Alice’s', 'Adventures'],\n",
       " ['Adventures', 'in'],\n",
       " ['in', 'Wonderland,'],\n",
       " ['Wonderland,', 'by'],\n",
       " ['by', 'Lewis'],\n",
       " ['Lewis', 'Carroll'],\n",
       " ['This', 'eBook'],\n",
       " ['eBook', 'is']]"
      ]
     },
     "execution_count": 78,
     "metadata": {},
     "output_type": "execute_result"
    }
   ],
   "source": [
    "bigram_vocab[:10]"
   ]
  },
  {
   "cell_type": "code",
   "execution_count": 76,
   "id": "1a7078c4-8b95-4428-9a34-7c113ce6f80b",
   "metadata": {},
   "outputs": [],
   "source": [
    "for filename in os.listdir(CORPUS_PATH):\n",
    "    fp = open(os.path.join(CORPUS_PATH,filename), 'r', encoding=\"utf-8\")\n",
    "    data = fp.readlines()\n",
    "    ngram_vocab(data)\n",
    "    "
   ]
  },
  {
   "cell_type": "code",
   "execution_count": 79,
   "id": "435afa07-91cf-4e9a-85fb-1c352b6dd848",
   "metadata": {},
   "outputs": [
    {
     "name": "stdout",
     "output_type": "stream",
     "text": [
      "True\n"
     ]
    }
   ],
   "source": [
    "for i in bigram_vocab:\n",
    "    if 'in' in i and 'Wonderland' in i:\n",
    "        print(True)\n",
    "        break"
   ]
  },
  {
   "cell_type": "code",
   "execution_count": 90,
   "id": "aa41269d-a99e-4329-8fa9-dc5a4ffe93d4",
   "metadata": {},
   "outputs": [],
   "source": [
    "def first(word, vocab = vocab):\n",
    "    x = []\n",
    "    for i in incidence_matrix:\n",
    "        if word in vocab:\n",
    "            print(incidence_matrix.index(i) + 1)\n",
    "            break"
   ]
  },
  {
   "cell_type": "code",
   "execution_count": 95,
   "id": "5757d04c-c9ea-4fb2-95ee-014f79693218",
   "metadata": {},
   "outputs": [
    {
     "data": {
      "text/plain": [
       "[1, 0, 0, 1, 1, 0, 0, 1, 0, 1, 0, 0, 0, 0]"
      ]
     },
     "execution_count": 95,
     "metadata": {},
     "output_type": "execute_result"
    }
   ],
   "source": [
    "get_boolean_matrix('pink')"
   ]
  },
  {
   "cell_type": "code",
   "execution_count": 92,
   "id": "71f19c06-c849-42e2-a41f-1e93cb5563af",
   "metadata": {},
   "outputs": [
    {
     "name": "stdout",
     "output_type": "stream",
     "text": [
      "1\n"
     ]
    }
   ],
   "source": [
    "first('yellow')"
   ]
  },
  {
   "cell_type": "code",
   "execution_count": 93,
   "id": "4e76f94a-2d45-4475-b5d1-90722243681a",
   "metadata": {},
   "outputs": [],
   "source": [
    "def search_bigram(words):\n",
    "    x = words.split(\" \")\n",
    "    for i in bigram_vocab:\n",
    "        if x[0] in i and x[1] in i:\n",
    "            return True\n",
    "    return False"
   ]
  },
  {
   "cell_type": "code",
   "execution_count": 94,
   "id": "5fb87cfd-e5b0-4c96-8ba2-eb004df31710",
   "metadata": {},
   "outputs": [
    {
     "data": {
      "text/plain": [
       "True"
      ]
     },
     "execution_count": 94,
     "metadata": {},
     "output_type": "execute_result"
    }
   ],
   "source": [
    "search_bigram('in Wonderland')"
   ]
  },
  {
   "cell_type": "code",
   "execution_count": 96,
   "id": "071aaaf5-1cbb-4641-9eb2-bbb5ce0e321d",
   "metadata": {},
   "outputs": [],
   "source": [
    "d = {}\n",
    "for i in vocab:\n",
    "    k = len(i)\n",
    "    if k in d:\n",
    "        d[k] +=1\n",
    "    else:\n",
    "        d[k] = 1"
   ]
  },
  {
   "cell_type": "code",
   "execution_count": 98,
   "id": "db44d170-ef63-49b5-ac3b-92e9a0567a92",
   "metadata": {},
   "outputs": [],
   "source": [
    "#d"
   ]
  },
  {
   "cell_type": "code",
   "execution_count": null,
   "id": "64cb4153-6e62-4ba5-94ed-022c30dac812",
   "metadata": {},
   "outputs": [],
   "source": []
  }
 ],
 "metadata": {
  "kernelspec": {
   "display_name": "Python 3 (ipykernel)",
   "language": "python",
   "name": "python3"
  },
  "language_info": {
   "codemirror_mode": {
    "name": "ipython",
    "version": 3
   },
   "file_extension": ".py",
   "mimetype": "text/x-python",
   "name": "python",
   "nbconvert_exporter": "python",
   "pygments_lexer": "ipython3",
   "version": "3.11.4"
  }
 },
 "nbformat": 4,
 "nbformat_minor": 5
}
